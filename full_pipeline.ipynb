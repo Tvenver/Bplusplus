{
 "cells": [
  {
   "cell_type": "markdown",
   "metadata": {},
   "source": [
    "# Insect Classification Pipeline with Bplusplus\n",
    "\n",
    "This notebook demonstrates a complete pipeline for detecting and classifying insects in videos using the Bplusplus library.\n",
    "\n",
    "## What you'll accomplish:\n",
    "1. **Collect** insect images from GBIF database\n",
    "2. **Prepare** data by detecting and cropping insects from raw images  \n",
    "3. **Train** a classification model for family, genus, and species identification\n",
    "4. **Test** the trained model's performance\n",
    "5. **Run inference** on videos to detect, classify, and track insects over time\n",
    "\n",
    "## How it works:\n",
    "- Uses a **two-stage approach**: pre-trained detection + custom classification\n",
    "- Detection stage: Locates insects in images/video frames\n",
    "- Classification stage: Identifies insects at three taxonomic levels (family → genus → species)\n",
    "- Tracking stage: Follows insects over time and aggregates predictions per individual\n",
    "\n",
    "By the end, you'll have a system that can process videos and output the most likely classification for each tracked insect.\n",
    "\n"
   ]
  },
  {
   "cell_type": "markdown",
   "metadata": {},
   "source": [
    "## Setup: Create Virtual Environment (Recommended)\n",
    "\n",
    "Create an isolated environment to avoid package conflicts:\n",
    "\n",
    "```bash\n",
    "python3 -m venv bplusplus_env\n",
    "source bplusplus_env/bin/activate\n",
    "```"
   ]
  },
  {
   "cell_type": "markdown",
   "metadata": {},
   "source": [
    "## Setup: Install Required Packages"
   ]
  },
  {
   "cell_type": "code",
   "execution_count": null,
   "metadata": {},
   "outputs": [],
   "source": [
    "! pip install bplusplus"
   ]
  },
  {
   "cell_type": "markdown",
   "metadata": {},
   "source": [
    "## Import required packages"
   ]
  },
  {
   "cell_type": "code",
   "execution_count": 1,
   "metadata": {},
   "outputs": [],
   "source": [
    "import bplusplus\n",
    "from typing import Any\n",
    "from pathlib import Path\n",
    "import requests\n",
    "from tqdm import tqdm"
   ]
  },
  {
   "cell_type": "markdown",
   "metadata": {},
   "source": [
    "## Set directories"
   ]
  },
  {
   "cell_type": "code",
   "execution_count": 2,
   "metadata": {},
   "outputs": [],
   "source": [
    "MAIN_DIR = Path(\"./\")\n",
    "\n",
    "GBIF_DATA_DIR = MAIN_DIR / \"GBIF_data\"\n",
    "PREPARED_DATA_DIR = MAIN_DIR / \"prepared_data\"\n",
    "TRAINED_MODEL_DIR = MAIN_DIR / \"trained_model\""
   ]
  },
  {
   "cell_type": "markdown",
   "metadata": {},
   "source": [
    "## Step 1: Collect Insect Images from GBIF\n",
    "\n",
    "We download images from the GBIF (Global Biodiversity Information Facility) database for our target species.\n",
    "\n",
    "**Important notes:**\n",
    "- Download more images than needed - many will be filtered out during preparation\n",
    "- Internet connection may be unstable - monitor progress and resume if needed\n",
    "- Check the `GBIF_DATA_DIR` folder to track downloaded files"
   ]
  },
  {
   "cell_type": "code",
   "execution_count": 3,
   "metadata": {},
   "outputs": [],
   "source": [
    "names = [\n",
    "        \"Coccinella septempunctata\", \"Apis mellifera\", \"Bombus lapidarius\"\n",
    "    ]\n",
    "\n",
    "search: dict[str, Any] = {\n",
    "    \"scientificName\": names\n",
    "}"
   ]
  },
  {
   "cell_type": "code",
   "execution_count": null,
   "metadata": {},
   "outputs": [],
   "source": [
    "bplusplus.collect(\n",
    "    group_by_key=bplusplus.Group.scientificName,\n",
    "    search_parameters=search, \n",
    "    images_per_group=100,\n",
    "    output_directory=GBIF_DATA_DIR,\n",
    "    num_threads=3\n",
    ")\n"
   ]
  },
  {
   "cell_type": "markdown",
   "metadata": {},
   "source": [
    "## Step 2: Prepare Data for Training"
   ]
  },
  {
   "cell_type": "markdown",
   "metadata": {},
   "source": [
    "This step uses a pre-trained vision model to:\n",
    "1. **Detect** insects in the raw GBIF images\n",
    "2. **Crop** each detected insect to focus on the subject\n",
    "3. **Resize** images to a consistent size for training\n",
    "\n",
    "**What to expect:**\n",
    "- Many images will be rejected (low success rate is normal)\n",
    "- Only clear, well-detected insects proceed to training\n",
    "- This filtering ensures high-quality training data"
   ]
  },
  {
   "cell_type": "code",
   "execution_count": null,
   "metadata": {},
   "outputs": [],
   "source": [
    "bplusplus.prepare(\n",
    "    input_directory=GBIF_DATA_DIR,\n",
    "    output_directory=PREPARED_DATA_DIR,\n",
    "    img_size=60\n",
    ")"
   ]
  },
  {
   "cell_type": "markdown",
   "metadata": {},
   "source": [
    "## Step 3: Train the Classification Model\n",
    "\n",
    "Train a ResNet-based neural network that classifies insects at three taxonomic levels:\n",
    "- **Family** (e.g., Coccinellidae for ladybugs)\n",
    "- **Genus** (e.g., Coccinella)  \n",
    "- **Species** (e.g., Coccinella septempunctata)\n",
    "\n",
    "The model learns hierarchical relationships between these classification levels. "
   ]
  },
  {
   "cell_type": "code",
   "execution_count": null,
   "metadata": {},
   "outputs": [],
   "source": [
    "bplusplus.train(\n",
    "    batch_size=4,\n",
    "    epochs=9,\n",
    "    patience=3,\n",
    "    img_size=60,\n",
    "    data_dir=PREPARED_DATA_DIR,\n",
    "    output_dir=TRAINED_MODEL_DIR,\n",
    "    species_list=names\n",
    ")\n"
   ]
  },
  {
   "cell_type": "markdown",
   "metadata": {},
   "source": [
    "## Step 4: Download Pre-trained Detection Weights\n",
    "\n",
    "For the two-stage pipeline, we need pre-trained weights for insect detection.\n",
    "\n",
    "**Option 1:** Manual download from:\n",
    "https://github.com/Tvenver/Bplusplus/releases/download/v1.2.3/v11small-generic.pt\n",
    "\n",
    "**Option 2:** Automatic download using the code below:\n"
   ]
  },
  {
   "cell_type": "code",
   "execution_count": 9,
   "metadata": {},
   "outputs": [],
   "source": [
    "def __download_file_from_github_release(url, dest_path):\n",
    "\n",
    "    \"\"\"\n",
    "    Downloads a file from a given GitHub release URL and saves it to the specified destination path,\n",
    "    with a progress bar displayed in the terminal.\n",
    "\n",
    "    Args:\n",
    "        url (str): The URL of the file to download.\n",
    "        dest_path (Path): The destination path where the file will be saved.\n",
    "\n",
    "    Raises:\n",
    "        Exception: If the file download fails.\n",
    "    \"\"\"\n",
    "\n",
    "    response = requests.get(url, stream=True)\n",
    "    total_size = int(response.headers.get('content-length', 0))\n",
    "    block_size = 1024  # 1 Kibibyte\n",
    "    progress_bar = tqdm(total=total_size, unit='iB', unit_scale=True)\n",
    "\n",
    "    if response.status_code == 200:\n",
    "        with open(dest_path, 'wb') as f:\n",
    "            for chunk in response.iter_content(chunk_size=block_size):\n",
    "                progress_bar.update(len(chunk))\n",
    "                f.write(chunk)\n",
    "        progress_bar.close()\n",
    "    else:\n",
    "        progress_bar.close()\n",
    "        raise Exception(f\"Failed to download file from {url}\")"
   ]
  },
  {
   "cell_type": "code",
   "execution_count": 4,
   "metadata": {},
   "outputs": [],
   "source": [
    "YOLO_WEIGHTS = TRAINED_MODEL_DIR / \"v11small-generic.pt\""
   ]
  },
  {
   "cell_type": "code",
   "execution_count": null,
   "metadata": {},
   "outputs": [],
   "source": [
    "github_release_url = 'https://github.com/Tvenver/Bplusplus/releases/download/v1.2.3/v11small-generic.pt'\n",
    "\n",
    "if not YOLO_WEIGHTS.exists():\n",
    "    __download_file_from_github_release(github_release_url, YOLO_WEIGHTS)"
   ]
  },
  {
   "cell_type": "markdown",
   "metadata": {},
   "source": [
    "## Step 5: Test the Trained Model\n",
    "\n",
    "Evaluate your trained model on a test dataset to measure accuracy.\n",
    "\n",
    "**Test data requirements:**\n",
    "- Directory structure: `test_data/images/` and `test_data/labels/`\n",
    "- Images: Standard image formats (jpg, png, etc.)\n",
    "- Labels: YOLO format text files with bounding boxes\n",
    "- Label format: `<class> <x_center> <y_center> <width> <height>`\n",
    "- Class names must match your training species order\n",
    "\n",
    "**Note:** This tests detection + classification accuracy, but does not include tracking.\n"
   ]
  },
  {
   "cell_type": "code",
   "execution_count": 5,
   "metadata": {},
   "outputs": [],
   "source": [
    "TEST_DATA_DIR = MAIN_DIR / \"test_data\" #if you want to test the model on a different dataset (two stage)\n",
    "RESNET_MULTITASK_WEIGHTS = TRAINED_MODEL_DIR / \"best_multitask.pt\""
   ]
  },
  {
   "cell_type": "code",
   "execution_count": null,
   "metadata": {},
   "outputs": [],
   "source": [
    "bplusplus.test(\n",
    "    species_list=names,\n",
    "    test_set=TEST_DATA_DIR,\n",
    "    yolo_weights=YOLO_WEIGHTS,\n",
    "    hierarchical_weights=RESNET_MULTITASK_WEIGHTS,\n",
    "    output_dir=TRAINED_MODEL_DIR\n",
    ")\n"
   ]
  },
  {
   "cell_type": "markdown",
   "metadata": {},
   "source": [
    "## Step 6: Run Video Inference\n",
    "\n",
    "Process a video to detect, classify, and track insects over time.\n",
    "\n",
    "**How it works:**\n",
    "1. **Detection:** Finds insects in each video frame\n",
    "2. **Classification:** Identifies each detected insect \n",
    "3. **Tracking:** Follows individual insects across frames\n",
    "4. **Aggregation:** Combines predictions for each tracked insect\n",
    "\n",
    "**Key parameters:**\n",
    "- `fps`: Video processing frame rate (None = use original)\n",
    "- `tracker_max_frames`: How long to remember lost insects\n",
    "  - Example: 60 frames at 15 fps = 4 seconds before forgetting an insect"
   ]
  },
  {
   "cell_type": "code",
   "execution_count": 6,
   "metadata": {},
   "outputs": [],
   "source": [
    "VIDEO_INPUT_PATH = MAIN_DIR / 'videos' / \"test_video.mp4\"\n",
    "VIDEO_OUTPUT_PATH = MAIN_DIR / 'videos' / \"test_video_output.mp4\""
   ]
  },
  {
   "cell_type": "code",
   "execution_count": null,
   "metadata": {},
   "outputs": [],
   "source": [
    "bplusplus.inference(\n",
    "    species_list=names,\n",
    "    yolo_model_path=YOLO_WEIGHTS,\n",
    "    hierarchical_model_path=RESNET_MULTITASK_WEIGHTS,\n",
    "    confidence_threshold=0.35,\n",
    "    video_path=VIDEO_INPUT_PATH,\n",
    "    output_path=VIDEO_OUTPUT_PATH,\n",
    "    tracker_max_frames=200,\n",
    "    fps=None\n",
    "    )"
   ]
  }
 ],
 "metadata": {
  "kernelspec": {
   "display_name": "env",
   "language": "python",
   "name": "python3"
  },
  "language_info": {
   "codemirror_mode": {
    "name": "ipython",
    "version": 3
   },
   "file_extension": ".py",
   "mimetype": "text/x-python",
   "name": "python",
   "nbconvert_exporter": "python",
   "pygments_lexer": "ipython3",
   "version": "3.10.12"
  }
 },
 "nbformat": 4,
 "nbformat_minor": 2
}
