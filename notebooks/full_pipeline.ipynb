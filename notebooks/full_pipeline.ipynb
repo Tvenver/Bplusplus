{
 "cells": [
  {
   "cell_type": "markdown",
   "metadata": {},
   "source": [
    "# Introduction\n",
    "In this notebook, we will demonstrate the process of collecting, preparing, and training a model using the Bplusplus library.\n",
    "\n",
    "The steps include:\n",
    "1. Installing the required packages.\n",
    "2. Importing the necessary modules.\n",
    "3. Setting up the directories for data storage.\n",
    "4. Collecting insect images from the Global Biodiversity Information Facility (GBIF).\n",
    "5. Preparing the collected images for training.\n",
    "6. Training a YOLO model on the prepared dataset.\n",
    "7. Validating the trained model.\n",
    "\n",
    "\n"
   ]
  },
  {
   "cell_type": "markdown",
   "metadata": {},
   "source": [
    "## Make virtual environment (recommended)\n",
    "It is recommended to create a virtual environment to manage dependencies and avoid conflicts.\n",
    " \n",
    "To create a virtual environment, open your terminal and run the following commands:\n",
    " \n",
    "```bash\n",
    "python3 -m venv bplusplus_env\n",
    "source bplusplus_env/bin/activate\n",
    "```\n",
    "\n",
    "This will create and activate a virtual environment named `bplusplus_env`."
   ]
  },
  {
   "cell_type": "markdown",
   "metadata": {},
   "source": [
    "## Install required packages"
   ]
  },
  {
   "cell_type": "code",
   "execution_count": null,
   "metadata": {},
   "outputs": [],
   "source": [
    "#!pip install bplusplus"
   ]
  },
  {
   "cell_type": "markdown",
   "metadata": {},
   "source": [
    "## Import required packages"
   ]
  },
  {
   "cell_type": "code",
   "execution_count": 1,
   "metadata": {},
   "outputs": [],
   "source": [
    "import bplusplus\n",
    "from typing import Any\n",
    "from pathlib import Path"
   ]
  },
  {
   "cell_type": "markdown",
   "metadata": {},
   "source": [
    "## Set directories"
   ]
  },
  {
   "cell_type": "code",
   "execution_count": 2,
   "metadata": {},
   "outputs": [],
   "source": [
    "MAIN_DIR = Path(\"/mnt/nvme1n1p1/datasets/sample\")\n",
    "\n",
    "GBIF_DATA_DIR = MAIN_DIR / \"GBIF_data\"\n",
    "PREPARED_DATA_DIR = MAIN_DIR / \"prepared_data\"\n",
    "TRAINED_MODEL_DIR = MAIN_DIR / \"trained_model\""
   ]
  },
  {
   "cell_type": "markdown",
   "metadata": {},
   "source": [
    "## Collect insect images from GBIF"
   ]
  },
  {
   "cell_type": "code",
   "execution_count": 4,
   "metadata": {},
   "outputs": [
    {
     "name": "stdout",
     "output_type": "stream",
     "text": [
      "Thread 0 starting collection for 1 species.\n",
      "Creating folders for images...\n",
      "Thread 1 starting collection for 1 species.\n",
      "Creating folders for images...\n",
      "Beginning to collect images from GBIF...\n",
      "Beginning to collect images from GBIF...\n",
      "Thread 2 starting collection for 1 species.\n",
      "Creating folders for images...\n",
      "Beginning to collect images from GBIF...\n",
      "Thread 3 starting collection for 1 species.\n",
      "Creating folders for images...\n",
      "Beginning to collect images from GBIF...\n"
     ]
    },
    {
     "ename": "KeyboardInterrupt",
     "evalue": "",
     "output_type": "error",
     "traceback": [
      "\u001b[0;31m---------------------------------------------------------------------------\u001b[0m",
      "\u001b[0;31mKeyboardInterrupt\u001b[0m                         Traceback (most recent call last)",
      "Cell \u001b[0;32mIn[4], line 7\u001b[0m\n\u001b[1;32m      1\u001b[0m names \u001b[38;5;241m=\u001b[39m [\u001b[38;5;124m\"\u001b[39m\u001b[38;5;124mCoccinella septempunctata\u001b[39m\u001b[38;5;124m\"\u001b[39m, \u001b[38;5;124m\"\u001b[39m\u001b[38;5;124mApis mellifera\u001b[39m\u001b[38;5;124m\"\u001b[39m, \u001b[38;5;124m\"\u001b[39m\u001b[38;5;124mBombus lapidarius\u001b[39m\u001b[38;5;124m\"\u001b[39m, \u001b[38;5;124m\"\u001b[39m\u001b[38;5;124mBombus terrestris\u001b[39m\u001b[38;5;124m\"\u001b[39m]\n\u001b[1;32m      3\u001b[0m search: \u001b[38;5;28mdict\u001b[39m[\u001b[38;5;28mstr\u001b[39m, Any] \u001b[38;5;241m=\u001b[39m {\n\u001b[1;32m      4\u001b[0m     \u001b[38;5;124m\"\u001b[39m\u001b[38;5;124mscientificName\u001b[39m\u001b[38;5;124m\"\u001b[39m: names\n\u001b[1;32m      5\u001b[0m }\n\u001b[0;32m----> 7\u001b[0m \u001b[43mbplusplus\u001b[49m\u001b[38;5;241;43m.\u001b[39;49m\u001b[43mcollect\u001b[49m\u001b[43m(\u001b[49m\n\u001b[1;32m      8\u001b[0m \u001b[43m    \u001b[49m\u001b[43mgroup_by_key\u001b[49m\u001b[38;5;241;43m=\u001b[39;49m\u001b[43mbplusplus\u001b[49m\u001b[38;5;241;43m.\u001b[39;49m\u001b[43mGroup\u001b[49m\u001b[38;5;241;43m.\u001b[39;49m\u001b[43mscientificName\u001b[49m\u001b[43m,\u001b[49m\n\u001b[1;32m      9\u001b[0m \u001b[43m    \u001b[49m\u001b[43msearch_parameters\u001b[49m\u001b[38;5;241;43m=\u001b[39;49m\u001b[43msearch\u001b[49m\u001b[43m,\u001b[49m\u001b[43m \u001b[49m\n\u001b[1;32m     10\u001b[0m \u001b[43m    \u001b[49m\u001b[43mimages_per_group\u001b[49m\u001b[38;5;241;43m=\u001b[39;49m\u001b[38;5;241;43m50\u001b[39;49m\u001b[43m,\u001b[49m\n\u001b[1;32m     11\u001b[0m \u001b[43m    \u001b[49m\u001b[43moutput_directory\u001b[49m\u001b[38;5;241;43m=\u001b[39;49m\u001b[43mGBIF_DATA_DIR\u001b[49m\u001b[43m,\u001b[49m\n\u001b[1;32m     12\u001b[0m \u001b[43m    \u001b[49m\u001b[43mnum_threads\u001b[49m\u001b[38;5;241;43m=\u001b[39;49m\u001b[38;5;241;43m3\u001b[39;49m\n\u001b[1;32m     13\u001b[0m \u001b[43m)\u001b[49m\n",
      "File \u001b[0;32m/mnt/nvme1n1p1/mit/Bplusplus/src/bplusplus/collect.py:23\u001b[0m, in \u001b[0;36mcollect\u001b[0;34m(group_by_key, search_parameters, images_per_group, output_directory, num_threads)\u001b[0m\n\u001b[1;32m     21\u001b[0m \u001b[38;5;66;03m# check if user wants to parallelize the process\u001b[39;00m\n\u001b[1;32m     22\u001b[0m \u001b[38;5;28;01mif\u001b[39;00m num_threads \u001b[38;5;241m>\u001b[39m \u001b[38;5;241m1\u001b[39m: \n\u001b[0;32m---> 23\u001b[0m     \u001b[43m__threaded_collect\u001b[49m\u001b[43m(\u001b[49m\n\u001b[1;32m     24\u001b[0m \u001b[43m        \u001b[49m\u001b[43mimages_per_group\u001b[49m\u001b[38;5;241;43m=\u001b[39;49m\u001b[43mimages_per_group\u001b[49m\u001b[43m,\u001b[49m\u001b[43m \u001b[49m\n\u001b[1;32m     25\u001b[0m \u001b[43m        \u001b[49m\u001b[43moutput_directory\u001b[49m\u001b[38;5;241;43m=\u001b[39;49m\u001b[43moutput_directory\u001b[49m\u001b[43m,\u001b[49m\u001b[43m \u001b[49m\n\u001b[1;32m     26\u001b[0m \u001b[43m        \u001b[49m\u001b[43mnum_threads\u001b[49m\u001b[38;5;241;43m=\u001b[39;49m\u001b[43mnum_threads\u001b[49m\u001b[43m,\u001b[49m\n\u001b[1;32m     27\u001b[0m \u001b[43m        \u001b[49m\u001b[43mgroups\u001b[49m\u001b[38;5;241;43m=\u001b[39;49m\u001b[43mgroups\u001b[49m\u001b[43m)\u001b[49m\n\u001b[1;32m     28\u001b[0m \u001b[38;5;28;01melse\u001b[39;00m: \n\u001b[1;32m     29\u001b[0m     __single_collect(\n\u001b[1;32m     30\u001b[0m         search_parameters\u001b[38;5;241m=\u001b[39msearch_parameters, \n\u001b[1;32m     31\u001b[0m         images_per_group\u001b[38;5;241m=\u001b[39mimages_per_group, \n\u001b[0;32m   (...)\u001b[0m\n\u001b[1;32m     34\u001b[0m         groups\u001b[38;5;241m=\u001b[39mgroups,\n\u001b[1;32m     35\u001b[0m     )\n",
      "File \u001b[0;32m/mnt/nvme1n1p1/mit/Bplusplus/src/bplusplus/collect.py:94\u001b[0m, in \u001b[0;36m__threaded_collect\u001b[0;34m(images_per_group, output_directory, num_threads, groups)\u001b[0m\n\u001b[1;32m     92\u001b[0m \u001b[38;5;66;03m# Wait for all threads to complete\u001b[39;00m\n\u001b[1;32m     93\u001b[0m \u001b[38;5;28;01mfor\u001b[39;00m thread \u001b[38;5;129;01min\u001b[39;00m threads:\n\u001b[0;32m---> 94\u001b[0m     \u001b[43mthread\u001b[49m\u001b[38;5;241;43m.\u001b[39;49m\u001b[43mjoin\u001b[49m\u001b[43m(\u001b[49m\u001b[43m)\u001b[49m\n\u001b[1;32m     96\u001b[0m \u001b[38;5;28mprint\u001b[39m(\u001b[38;5;124m\"\u001b[39m\u001b[38;5;124mAll collection threads have finished.\u001b[39m\u001b[38;5;124m\"\u001b[39m)\n",
      "File \u001b[0;32m/usr/lib/python3.10/threading.py:1096\u001b[0m, in \u001b[0;36mThread.join\u001b[0;34m(self, timeout)\u001b[0m\n\u001b[1;32m   1093\u001b[0m     \u001b[38;5;28;01mraise\u001b[39;00m \u001b[38;5;167;01mRuntimeError\u001b[39;00m(\u001b[38;5;124m\"\u001b[39m\u001b[38;5;124mcannot join current thread\u001b[39m\u001b[38;5;124m\"\u001b[39m)\n\u001b[1;32m   1095\u001b[0m \u001b[38;5;28;01mif\u001b[39;00m timeout \u001b[38;5;129;01mis\u001b[39;00m \u001b[38;5;28;01mNone\u001b[39;00m:\n\u001b[0;32m-> 1096\u001b[0m     \u001b[38;5;28;43mself\u001b[39;49m\u001b[38;5;241;43m.\u001b[39;49m\u001b[43m_wait_for_tstate_lock\u001b[49m\u001b[43m(\u001b[49m\u001b[43m)\u001b[49m\n\u001b[1;32m   1097\u001b[0m \u001b[38;5;28;01melse\u001b[39;00m:\n\u001b[1;32m   1098\u001b[0m     \u001b[38;5;66;03m# the behavior of a negative timeout isn't documented, but\u001b[39;00m\n\u001b[1;32m   1099\u001b[0m     \u001b[38;5;66;03m# historically .join(timeout=x) for x<0 has acted as if timeout=0\u001b[39;00m\n\u001b[1;32m   1100\u001b[0m     \u001b[38;5;28mself\u001b[39m\u001b[38;5;241m.\u001b[39m_wait_for_tstate_lock(timeout\u001b[38;5;241m=\u001b[39m\u001b[38;5;28mmax\u001b[39m(timeout, \u001b[38;5;241m0\u001b[39m))\n",
      "File \u001b[0;32m/usr/lib/python3.10/threading.py:1116\u001b[0m, in \u001b[0;36mThread._wait_for_tstate_lock\u001b[0;34m(self, block, timeout)\u001b[0m\n\u001b[1;32m   1113\u001b[0m     \u001b[38;5;28;01mreturn\u001b[39;00m\n\u001b[1;32m   1115\u001b[0m \u001b[38;5;28;01mtry\u001b[39;00m:\n\u001b[0;32m-> 1116\u001b[0m     \u001b[38;5;28;01mif\u001b[39;00m \u001b[43mlock\u001b[49m\u001b[38;5;241;43m.\u001b[39;49m\u001b[43macquire\u001b[49m\u001b[43m(\u001b[49m\u001b[43mblock\u001b[49m\u001b[43m,\u001b[49m\u001b[43m \u001b[49m\u001b[43mtimeout\u001b[49m\u001b[43m)\u001b[49m:\n\u001b[1;32m   1117\u001b[0m         lock\u001b[38;5;241m.\u001b[39mrelease()\n\u001b[1;32m   1118\u001b[0m         \u001b[38;5;28mself\u001b[39m\u001b[38;5;241m.\u001b[39m_stop()\n",
      "\u001b[0;31mKeyboardInterrupt\u001b[0m: "
     ]
    },
    {
     "name": "stdout",
     "output_type": "stream",
     "text": [
      "Downloading 50 images into the Bombus terrestris folder...\n"
     ]
    },
    {
     "name": "stderr",
     "output_type": "stream",
     "text": [
      "Downloading images for Bombus terrestris:  18%|█▊        | 9/50 [00:03<00:16,  2.54image/s]"
     ]
    },
    {
     "name": "stdout",
     "output_type": "stream",
     "text": [
      "Downloading 50 images into the Bombus lapidarius folder...\n"
     ]
    },
    {
     "name": "stderr",
     "output_type": "stream",
     "text": [
      "Downloading images for Bombus terrestris:  50%|█████     | 25/50 [00:11<00:08,  3.05image/s]Exception in thread Exception in threading.excepthook:\n",
      "Exception ignored in thread started by: <bound method Thread._bootstrap of <Thread(Thread-8 (__collect_subset), stopped 127493149296192)>>\n",
      "Traceback (most recent call last):\n",
      "  File \"/usr/lib/python3.10/threading.py\", line 973, in _bootstrap\n",
      "    self._bootstrap_inner()\n",
      "  File \"/usr/lib/python3.10/threading.py\", line 1018, in _bootstrap_inner\n",
      "    self._invoke_excepthook(self)\n",
      "  File \"/usr/lib/python3.10/threading.py\", line 1336, in invoke_excepthook\n",
      "    local_print(\"Exception in threading.excepthook:\",\n",
      "  File \"/mnt/nvme1n1p1/mit/bplusplus-env/lib/python3.10/site-packages/ipykernel/iostream.py\", line 604, in flush\n",
      "    self.pub_thread.schedule(self._flush)\n",
      "  File \"/mnt/nvme1n1p1/mit/bplusplus-env/lib/python3.10/site-packages/ipykernel/iostream.py\", line 267, in schedule\n",
      "    self._event_pipe.send(b\"\")\n",
      "  File \"/mnt/nvme1n1p1/mit/bplusplus-env/lib/python3.10/site-packages/zmq/sugar/socket.py\", line 710, in send\n",
      "    return super().send(data, flags=flags, copy=copy, track=track)\n",
      "  File \"_zmq.py\", line 1092, in zmq.backend.cython._zmq.Socket.send\n",
      "  File \"_zmq.py\", line 1134, in zmq.backend.cython._zmq.Socket.send\n",
      "  File \"_zmq.py\", line 1209, in zmq.backend.cython._zmq._check_closed\n",
      "zmq.error.ZMQError: Socket operation on non-socket\n",
      "Exception ignored in sys.unraisablehook: <built-in function unraisablehook>\n",
      "Traceback (most recent call last):\n",
      "  File \"/mnt/nvme1n1p1/mit/bplusplus-env/lib/python3.10/site-packages/ipykernel/iostream.py\", line 604, in flush\n",
      "    self.pub_thread.schedule(self._flush)\n",
      "  File \"/mnt/nvme1n1p1/mit/bplusplus-env/lib/python3.10/site-packages/ipykernel/iostream.py\", line 267, in schedule\n",
      "    self._event_pipe.send(b\"\")\n",
      "  File \"/mnt/nvme1n1p1/mit/bplusplus-env/lib/python3.10/site-packages/zmq/sugar/socket.py\", line 710, in send\n",
      "    return super().send(data, flags=flags, copy=copy, track=track)\n",
      "  File \"_zmq.py\", line 1092, in zmq.backend.cython._zmq.Socket.send\n",
      "  File \"_zmq.py\", line 1134, in zmq.backend.cython._zmq.Socket.send\n",
      "  File \"_zmq.py\", line 1209, in zmq.backend.cython._zmq._check_closed\n",
      "zmq.error.ZMQError: Socket operation on non-socket\n"
     ]
    },
    {
     "name": "stdout",
     "output_type": "stream",
     "text": [
      "Downloading 50 images into the Coccinella septempunctata folder..."
     ]
    },
    {
     "name": "stderr",
     "output_type": "stream",
     "text": [
      "Downloading images for Bombus terrestris:  60%|██████    | 30/50 [00:16<00:13,  1.44image/s]"
     ]
    },
    {
     "name": "stdout",
     "output_type": "stream",
     "text": [
      "Downloading 50 images into the Apis mellifera folder...\n"
     ]
    },
    {
     "name": "stderr",
     "output_type": "stream",
     "text": [
      "\n",
      "Downloading images for Bombus terrestris:  66%|██████▌   | 33/50 [00:16<00:06,  2.43image/s]\n",
      "Downloading images for Bombus terrestris:  70%|███████   | 35/50 [00:17<00:05,  2.80image/s]\n",
      "Downloading images for Bombus terrestris:  78%|███████▊  | 39/50 [00:18<00:03,  3.15image/s]\n",
      "Downloading images for Bombus terrestris:  82%|████████▏ | 41/50 [00:19<00:02,  4.12image/s]\n",
      "Downloading images for Bombus terrestris:  88%|████████▊ | 44/50 [00:20<00:01,  3.46image/s]\n",
      "Downloading images for Bombus terrestris:  90%|█████████ | 45/50 [00:20<00:02,  2.44image/s]\n",
      "Downloading images for Bombus terrestris:  98%|█████████▊| 49/50 [00:22<00:00,  2.46image/s]\n",
      "Downloading images for Bombus terrestris: 100%|██████████| 50/50 [00:23<00:00,  2.09image/s]\n"
     ]
    },
    {
     "name": "stdout",
     "output_type": "stream",
     "text": [
      "Finished collecting images.\n",
      "Thread 3 finished collection.\n"
     ]
    },
    {
     "name": "stderr",
     "output_type": "stream",
     "text": [
      "\n",
      "\u001b[A\n",
      "\u001b[A\n",
      "\u001b[A\n",
      "\u001b[A\n",
      "\u001b[A\n",
      "\u001b[A\n",
      "\u001b[A\n",
      "\u001b[A\n",
      "Downloading images for Bombus lapidarius: 100%|██████████| 50/50 [00:30<00:00,  1.65image/s]\n"
     ]
    },
    {
     "name": "stdout",
     "output_type": "stream",
     "text": [
      "Finished collecting images.\n",
      "Thread 2 finished collection.\n"
     ]
    },
    {
     "name": "stderr",
     "output_type": "stream",
     "text": [
      "\n",
      "\u001b[A\n",
      "\u001b[A\n",
      "\u001b[A\n",
      "\u001b[A\n",
      "\u001b[A\n",
      "\u001b[A\n",
      "\u001b[A\n",
      "\u001b[A\n",
      "\u001b[A\n",
      "\u001b[A\n",
      "\u001b[A\n",
      "\u001b[A\n",
      "\u001b[A\n",
      "\u001b[A\n",
      "\u001b[A\n",
      "\u001b[A\n",
      "\u001b[A\n",
      "\u001b[A\n",
      "\u001b[A\n",
      "\u001b[A\n",
      "\u001b[A\n",
      "\u001b[A\n",
      "\u001b[A\n",
      "\u001b[A\n",
      "\u001b[A\n",
      "\u001b[A\n",
      "\u001b[A\n",
      "\u001b[A\n",
      "\u001b[A\n",
      "\u001b[A\n",
      "\u001b[A\n",
      "\u001b[A\n",
      "\u001b[A\n",
      "Downloading images for Apis mellifera: 100%|██████████| 50/50 [00:58<00:00,  1.17s/image]\n"
     ]
    },
    {
     "name": "stdout",
     "output_type": "stream",
     "text": [
      "Finished collecting images.\n",
      "Thread 1 finished collection.\n"
     ]
    }
   ],
   "source": [
    "names = [\"Coccinella septempunctata\", \"Apis mellifera\", \"Bombus lapidarius\", \"Bombus terrestris\"]\n",
    "\n",
    "search: dict[str, Any] = {\n",
    "    \"scientificName\": names\n",
    "}\n",
    "\n",
    "bplusplus.collect(\n",
    "    group_by_key=bplusplus.Group.scientificName,\n",
    "    search_parameters=search, \n",
    "    images_per_group=50,\n",
    "    output_directory=GBIF_DATA_DIR,\n",
    "    num_threads=3\n",
    ")\n"
   ]
  },
  {
   "cell_type": "markdown",
   "metadata": {},
   "source": [
    "## Prepare the dataset for training (yolov8)"
   ]
  },
  {
   "cell_type": "code",
   "execution_count": null,
   "metadata": {},
   "outputs": [],
   "source": [
    "bplusplus.prepare(\n",
    "    input_directory=GBIF_DATA_DIR,\n",
    "    output_directory=PREPARED_DATA_DIR,\n",
    "    with_background=True # Set to False if you don't want to include/download background images\n",
    ")"
   ]
  },
  {
   "cell_type": "markdown",
   "metadata": {},
   "source": [
    "## Train the model"
   ]
  },
  {
   "cell_type": "code",
   "execution_count": null,
   "metadata": {},
   "outputs": [],
   "source": [
    "model = bplusplus.train(\n",
    "    input_yaml=str(PREPARED_DATA_DIR / \"dataset.yaml\"),\n",
    "    output_directory=TRAINED_MODEL_DIR\n",
    "    #Optional inputs:\n",
    "    #output_directory: str = ./  # Directory to save the trained model\n",
    "    # epochs: int = 30  # Number of epochs to train the model\n",
    "    # imgsz: int = 640  # Image size for training\n",
    "    # batch: int = 16  # Batch size for training\n",
    ")"
   ]
  },
  {
   "cell_type": "markdown",
   "metadata": {},
   "source": [
    "## Validate the model"
   ]
  },
  {
   "cell_type": "code",
   "execution_count": null,
   "metadata": {},
   "outputs": [],
   "source": [
    "metrics = bplusplus.validate(model, str(PREPARED_DATA_DIR / \"dataset.yaml\"))\n",
    "print(metrics)"
   ]
  }
 ],
 "metadata": {
  "kernelspec": {
   "display_name": "bplusplus-env",
   "language": "python",
   "name": "python3"
  },
  "language_info": {
   "codemirror_mode": {
    "name": "ipython",
    "version": 3
   },
   "file_extension": ".py",
   "mimetype": "text/x-python",
   "name": "python",
   "nbconvert_exporter": "python",
   "pygments_lexer": "ipython3",
   "version": "3.10.12"
  }
 },
 "nbformat": 4,
 "nbformat_minor": 2
}
