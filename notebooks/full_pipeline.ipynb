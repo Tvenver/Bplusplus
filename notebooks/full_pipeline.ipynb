{
 "cells": [
  {
   "cell_type": "markdown",
   "metadata": {},
   "source": [
    "# Introduction\n",
    "In this notebook, we will demonstrate the process of collecting, preparing, and training a model using the Bplusplus library.\n",
    "\n",
    "The steps include:\n",
    "1. Installing the required packages.\n",
    "2. Importing the necessary modules.\n",
    "3. Setting up the directories for data storage.\n",
    "4. Collecting insect images from the Global Biodiversity Information Facility (GBIF).\n",
    "5. Preparing the collected images for training.\n",
    "6. Training a YOLO model on the prepared dataset.\n",
    "7. Validating the trained model.\n",
    "\n",
    "\n"
   ]
  },
  {
   "cell_type": "markdown",
   "metadata": {},
   "source": [
    "## Make virtual environment (recommended)\n",
    "It is recommended to create a virtual environment to manage dependencies and avoid conflicts.\n",
    " \n",
    "To create a virtual environment, open your terminal and run the following commands:\n",
    " \n",
    "```bash\n",
    "python3 -m venv bplusplus_env\n",
    "source bplusplus_env/bin/activate\n",
    "```\n",
    "\n",
    "This will create and activate a virtual environment named `bplusplus_env`."
   ]
  },
  {
   "cell_type": "markdown",
   "metadata": {},
   "source": [
    "## Install required packages"
   ]
  },
  {
   "cell_type": "code",
   "execution_count": null,
   "metadata": {},
   "outputs": [],
   "source": [
    "!pip install git+https://github.com/Tvenver/Bplusplus.git@collect-prepare-train #change to bplusplus when merged"
   ]
  },
  {
   "cell_type": "markdown",
   "metadata": {},
   "source": [
    "## Import required packages"
   ]
  },
  {
   "cell_type": "code",
   "execution_count": null,
   "metadata": {},
   "outputs": [],
   "source": [
    "import bplusplus\n",
    "import prettytable\n",
    "from typing import Any\n",
    "from pathlib import Path"
   ]
  },
  {
   "cell_type": "markdown",
   "metadata": {},
   "source": [
    "## Set directories"
   ]
  },
  {
   "cell_type": "code",
   "execution_count": null,
   "metadata": {},
   "outputs": [],
   "source": [
    "MAIN_DIR = Path(\"/path/to/main_dir\")\n",
    "\n",
    "GBIF_DATA_DIR = MAIN_DIR / \"GBIF_data\"\n",
    "PREPARED_DATA_DIR = MAIN_DIR / \"prepared_data\"\n",
    "TRAINED_MODEL_DIR = MAIN_DIR / \"trained_model\""
   ]
  },
  {
   "cell_type": "markdown",
   "metadata": {},
   "source": [
    "## Collect insect images from GBIF"
   ]
  },
  {
   "cell_type": "code",
   "execution_count": null,
   "metadata": {},
   "outputs": [],
   "source": [
    "names = [\n",
    "    \"Nabis rugosus\",\n",
    "    \"Forficula auricularia\",\n",
    "    \"Calosoma inquisitor\"\n",
    "]\n",
    "\n",
    "search: dict[str, Any] = {\n",
    "    \"scientificName\": names\n",
    "}\n",
    "\n",
    "bplusplus.collect(\n",
    "    group_by_key=bplusplus.Group.scientificName,\n",
    "    search_parameters=search, \n",
    "    images_per_group=50,\n",
    "    output_directory=GBIF_DATA_DIR\n",
    ")\n"
   ]
  },
  {
   "cell_type": "markdown",
   "metadata": {},
   "source": [
    "## Prepare the dataset for training (yolov8)"
   ]
  },
  {
   "cell_type": "code",
   "execution_count": null,
   "metadata": {},
   "outputs": [],
   "source": [
    "bplusplus.prepare(\n",
    "    input_directory=GBIF_DATA_DIR,\n",
    "    output_directory=PREPARED_DATA_DIR,\n",
    "    with_background=True # Set to False if you don't want to include/download background images\n",
    ")"
   ]
  },
  {
   "cell_type": "markdown",
   "metadata": {},
   "source": [
    "## Train the model"
   ]
  },
  {
   "cell_type": "code",
   "execution_count": null,
   "metadata": {},
   "outputs": [],
   "source": [
    "model = bplusplus.train(\n",
    "    input_yaml=str(PREPARED_DATA_DIR / \"dataset.yaml\"),\n",
    "    output_directory=TRAINED_MODEL_DIR\n",
    "    #Optional inputs:\n",
    "    #output_directory: str = ./  # Directory to save the trained model\n",
    "    # epochs: int = 30  # Number of epochs to train the model\n",
    "    # imgsz: int = 640  # Image size for training\n",
    "    # batch: int = 16  # Batch size for training\n",
    ")"
   ]
  },
  {
   "cell_type": "markdown",
   "metadata": {},
   "source": [
    "## Validate the model"
   ]
  },
  {
   "cell_type": "code",
   "execution_count": null,
   "metadata": {},
   "outputs": [],
   "source": [
    "metrics = bplusplus.validate(model, str(PREPARED_DATA_DIR / \"dataset.yaml\"))\n",
    "print(metrics)"
   ]
  }
 ],
 "metadata": {
  "language_info": {
   "name": "python"
  }
 },
 "nbformat": 4,
 "nbformat_minor": 2
}
