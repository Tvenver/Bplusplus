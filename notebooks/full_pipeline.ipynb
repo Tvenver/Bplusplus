{
 "cells": [
  {
   "cell_type": "markdown",
   "metadata": {},
   "source": [
    "# Introduction\n",
    "In this notebook, we will demonstrate the process of collecting, preparing, and training a model using the Bplusplus library.\n",
    "\n",
    "The steps include:\n",
    "1. Installing the required packages.\n",
    "2. Importing the necessary modules.\n",
    "3. Setting up the directories for data storage.\n",
    "4. Collecting insect images from the Global Biodiversity Information Facility (GBIF).\n",
    "5. Preparing the collected images for training.\n",
    "6. Training a YOLO/Resnet/Multitask-Resnet model on the prepared dataset.\n",
    "7. Validating the trained model.\n",
    "\n",
    "Please do not run all cells in the notebook, choose whether you want to run one stage yolo, two stage resnet, or two stage multitask-resnet and follow the appropriate cells.\n",
    "\n",
    "\n"
   ]
  },
  {
   "cell_type": "markdown",
   "metadata": {},
   "source": [
    "## Make virtual environment (recommended)\n",
    "It is recommended to create a virtual environment to manage dependencies and avoid conflicts.\n",
    " \n",
    "To create a virtual environment, open your terminal and run the following commands:\n",
    " \n",
    "```bash\n",
    "python3 -m venv bplusplus_env\n",
    "source bplusplus_env/bin/activate\n",
    "```\n",
    "\n",
    "This will create and activate a virtual environment named `bplusplus_env`."
   ]
  },
  {
   "cell_type": "markdown",
   "metadata": {},
   "source": [
    "## Install required packages"
   ]
  },
  {
   "cell_type": "code",
   "execution_count": null,
   "metadata": {},
   "outputs": [],
   "source": [
    "#!pip install bplusplus"
   ]
  },
  {
   "cell_type": "markdown",
   "metadata": {},
   "source": [
    "## Import required packages"
   ]
  },
  {
   "cell_type": "code",
   "execution_count": 1,
   "metadata": {},
   "outputs": [],
   "source": [
    "import bplusplus\n",
    "from typing import Any\n",
    "from pathlib import Path\n",
    "import requests\n",
    "from tqdm import tqdm"
   ]
  },
  {
   "cell_type": "markdown",
   "metadata": {},
   "source": [
    "## Set directories"
   ]
  },
  {
   "cell_type": "code",
   "execution_count": 2,
   "metadata": {},
   "outputs": [],
   "source": [
    "MAIN_DIR = Path(\"/mnt/nvme1n1p1/datasets/sample\")\n",
    "\n",
    "GBIF_DATA_DIR = MAIN_DIR / \"GBIF_data\"\n",
    "PREPARED_DATA_DIR = MAIN_DIR / \"prepared_data\"\n",
    "TRAINED_MODEL_DIR = MAIN_DIR / \"trained_model\"\n",
    "\n",
    "TEST_DATA_DIR = Path(\"/mnt/nvme1n1p1/datasets/sample/test_data\") #if you want to test the model on a different dataset (two stage)"
   ]
  },
  {
   "cell_type": "markdown",
   "metadata": {},
   "source": [
    "## Collect insect images from GBIF"
   ]
  },
  {
   "cell_type": "code",
   "execution_count": null,
   "metadata": {},
   "outputs": [],
   "source": [
    "names = [\"Coccinella septempunctata\", \"Apis mellifera\", \"Bombus lapidarius\", \"Bombus terrestris\"]\n",
    "\n",
    "search: dict[str, Any] = {\n",
    "    \"scientificName\": names\n",
    "}\n",
    "\n",
    "bplusplus.collect(\n",
    "    group_by_key=bplusplus.Group.scientificName,\n",
    "    search_parameters=search, \n",
    "    images_per_group=50,\n",
    "    output_directory=GBIF_DATA_DIR,\n",
    "    num_threads=3\n",
    ")\n"
   ]
  },
  {
   "cell_type": "markdown",
   "metadata": {},
   "source": [
    "## Prepare the dataset for training (yolov8)"
   ]
  },
  {
   "cell_type": "markdown",
   "metadata": {},
   "source": [
    "For one stage yolo, you may want to filter by size of insect as small insects are desirable for training."
   ]
  },
  {
   "cell_type": "code",
   "execution_count": null,
   "metadata": {},
   "outputs": [],
   "source": [
    "bplusplus.prepare(\n",
    "    input_directory=GBIF_DATA_DIR,\n",
    "    output_directory=PREPARED_DATA_DIR,\n",
    "    with_background=True, # Set to False if you don't want to include/download background images\n",
    "    one_stage=True,\n",
    "    size_filter=True, #set to list of sizes if you want to filter by size of insect \n",
    "    sizes=[\"small\", \"medium\"] #set to list of sizes if you want to filter by size of insect \n",
    ")"
   ]
  },
  {
   "cell_type": "markdown",
   "metadata": {},
   "source": [
    "## Prepare the dataset for training (two stage)"
   ]
  },
  {
   "cell_type": "markdown",
   "metadata": {},
   "source": [
    "When preparing the GBIF data for two stage, you may want to filter by large size of insects. This data is just used for classification from the cropped bounding box therefore large size is desirable. Even if no size is filtered, please run preparation to just split to train and valid for training. "
   ]
  },
  {
   "cell_type": "code",
   "execution_count": null,
   "metadata": {},
   "outputs": [],
   "source": [
    "bplusplus.prepare(\n",
    "    input_directory=GBIF_DATA_DIR,\n",
    "    output_directory=PREPARED_DATA_DIR,\n",
    "    with_background=False, # Set to False if you don't want to include/download background images\n",
    "    one_stage=False,\n",
    "    size_filter=True, #set to list of sizes if you want to filter by size of insect \n",
    "    sizes=[\"large\"] #set to list of sizes if you want to filter by size of insect \n",
    ")"
   ]
  },
  {
   "cell_type": "markdown",
   "metadata": {},
   "source": [
    "## Train the model (yolov8)"
   ]
  },
  {
   "cell_type": "code",
   "execution_count": null,
   "metadata": {},
   "outputs": [],
   "source": [
    "model = bplusplus.train(\n",
    "    input_yaml=str(PREPARED_DATA_DIR / \"dataset.yaml\"),\n",
    "    output_directory=TRAINED_MODEL_DIR,\n",
    "    epochs=2,\n",
    "    imgsz=256,\n",
    "    batch=4\n",
    ")"
   ]
  },
  {
   "cell_type": "markdown",
   "metadata": {},
   "source": [
    "## Train the model (resnet standard)"
   ]
  },
  {
   "cell_type": "code",
   "execution_count": null,
   "metadata": {},
   "outputs": [],
   "source": [
    "species_list = names"
   ]
  },
  {
   "cell_type": "code",
   "execution_count": null,
   "metadata": {},
   "outputs": [],
   "source": [
    "bplusplus.train_resnet(\n",
    "    species_list,\n",
    "    model_type='resnet50',\n",
    "    batch_size=4,\n",
    "    num_epochs=2,\n",
    "    patience=5,\n",
    "    output_dir=TRAINED_MODEL_DIR,\n",
    "    data_dir=PREPARED_DATA_DIR,\n",
    "    img_size=256\n",
    ")"
   ]
  },
  {
   "cell_type": "markdown",
   "metadata": {},
   "source": [
    "## Train the model (resnet multitask)"
   ]
  },
  {
   "cell_type": "code",
   "execution_count": null,
   "metadata": {},
   "outputs": [],
   "source": [
    "bplusplus.train_multitask(\n",
    "    batch_size=4,\n",
    "    epochs=2,\n",
    "    patience=3,\n",
    "    img_size=256,\n",
    "    data_dir=PREPARED_DATA_DIR,\n",
    "    output_dir=TRAINED_MODEL_DIR,\n",
    "    species_list=species_list\n",
    ")\n"
   ]
  },
  {
   "cell_type": "markdown",
   "metadata": {},
   "source": [
    "## Validate the model (yolov8)"
   ]
  },
  {
   "cell_type": "code",
   "execution_count": null,
   "metadata": {},
   "outputs": [],
   "source": [
    "metrics = bplusplus.validate(model, str(PREPARED_DATA_DIR / \"dataset.yaml\"))\n",
    "print(metrics)"
   ]
  },
  {
   "cell_type": "markdown",
   "metadata": {},
   "source": [
    "## For two stage model validation, download localisation weights from: \n",
    "\n",
    "https://github.com/orlandocloss/TwoStageInsectDetection/releases/download/models/small-generic.pt\n",
    "\n",
    "```\n",
    "OR\n",
    "```\n"
   ]
  },
  {
   "cell_type": "code",
   "execution_count": null,
   "metadata": {},
   "outputs": [],
   "source": [
    "def __download_file_from_github_release(url, dest_path):\n",
    "\n",
    "    \"\"\"\n",
    "    Downloads a file from a given GitHub release URL and saves it to the specified destination path,\n",
    "    with a progress bar displayed in the terminal.\n",
    "\n",
    "    Args:\n",
    "        url (str): The URL of the file to download.\n",
    "        dest_path (Path): The destination path where the file will be saved.\n",
    "\n",
    "    Raises:\n",
    "        Exception: If the file download fails.\n",
    "    \"\"\"\n",
    "\n",
    "    response = requests.get(url, stream=True)\n",
    "    total_size = int(response.headers.get('content-length', 0))\n",
    "    block_size = 1024  # 1 Kibibyte\n",
    "    progress_bar = tqdm(total=total_size, unit='iB', unit_scale=True)\n",
    "\n",
    "    if response.status_code == 200:\n",
    "        with open(dest_path, 'wb') as f:\n",
    "            for chunk in response.iter_content(chunk_size=block_size):\n",
    "                progress_bar.update(len(chunk))\n",
    "                f.write(chunk)\n",
    "        progress_bar.close()\n",
    "    else:\n",
    "        progress_bar.close()\n",
    "        raise Exception(f\"Failed to download file from {url}\")"
   ]
  },
  {
   "cell_type": "code",
   "execution_count": null,
   "metadata": {},
   "outputs": [],
   "source": [
    "YOLO_WEIGHTS = TRAINED_MODEL_DIR + '/small-generic.pt'"
   ]
  },
  {
   "cell_type": "code",
   "execution_count": null,
   "metadata": {},
   "outputs": [],
   "source": [
    "github_release_url = 'https://github.com/orlandocloss/TwoStageInsectDetection/releases/download/models/small-generic.pt'\n",
    "\n",
    "if not YOLO_WEIGHTS.exists():\n",
    "    __download_file_from_github_release(github_release_url, YOLO_WEIGHTS)"
   ]
  },
  {
   "cell_type": "markdown",
   "metadata": {},
   "source": [
    "## Validate the model (resnet standard)"
   ]
  },
  {
   "cell_type": "code",
   "execution_count": null,
   "metadata": {},
   "outputs": [],
   "source": [
    "RESNET_WEIGHTS = TRAINED_MODEL_DIR + '/best_resnet50.pt'"
   ]
  },
  {
   "cell_type": "code",
   "execution_count": null,
   "metadata": {},
   "outputs": [],
   "source": [
    "bplusplus.test_resnet(\n",
    "    data_path=TEST_DATA_DIR,\n",
    "    yolo_weights=YOLO_WEIGHTS,\n",
    "    resnet_weights=RESNET_WEIGHTS,\n",
    "    model=\"resnet50\",\n",
    "    species_names=species_list,\n",
    "    output_dir=TRAINED_MODEL_DIR\n",
    ")"
   ]
  },
  {
   "cell_type": "markdown",
   "metadata": {},
   "source": [
    "## Validate the model (resnet multitask)\n"
   ]
  },
  {
   "cell_type": "code",
   "execution_count": null,
   "metadata": {},
   "outputs": [],
   "source": [
    "RESNET_MULTITASK_WEIGHTS = TRAINED_MODEL_DIR + '/best_multitask.pt'"
   ]
  },
  {
   "cell_type": "code",
   "execution_count": null,
   "metadata": {},
   "outputs": [],
   "source": [
    "bplusplus.test_multitask(\n",
    "    species_list,\n",
    "    test_set=TEST_DATA_DIR,\n",
    "    yolo_weights=YOLO_WEIGHTS,\n",
    "    hierarchical_weights=RESNET_MULTITASK_WEIGHTS,\n",
    "    output_dir=TRAINED_MODEL_DIR\n",
    ")"
   ]
  }
 ],
 "metadata": {
  "kernelspec": {
   "display_name": "bplusplus-env",
   "language": "python",
   "name": "python3"
  },
  "language_info": {
   "codemirror_mode": {
    "name": "ipython",
    "version": 3
   },
   "file_extension": ".py",
   "mimetype": "text/x-python",
   "name": "python",
   "nbconvert_exporter": "python",
   "pygments_lexer": "ipython3",
   "version": "3.10.12"
  }
 },
 "nbformat": 4,
 "nbformat_minor": 2
}
