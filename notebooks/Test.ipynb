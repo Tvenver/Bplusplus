{
 "cells": [
  {
   "cell_type": "code",
   "execution_count": 1,
   "id": "initial_id",
   "metadata": {
    "collapsed": true,
    "jupyter": {
     "is_executing": true
    }
   },
   "outputs": [
    {
     "ename": "AttributeError",
     "evalue": "module 'bplusplus' has no attribute 'collect_images'",
     "output_type": "error",
     "traceback": [
      "\u001b[0;31m---------------------------------------------------------------------------\u001b[0m",
      "\u001b[0;31mAttributeError\u001b[0m                            Traceback (most recent call last)",
      "Cell \u001b[0;32mIn[1], line 10\u001b[0m\n\u001b[1;32m      6\u001b[0m multimedia_file \u001b[38;5;241m=\u001b[39m os\u001b[38;5;241m.\u001b[39mpath\u001b[38;5;241m.\u001b[39mjoin(\u001b[38;5;124m'\u001b[39m\u001b[38;5;124m../../notebooks/data\u001b[39m\u001b[38;5;124m'\u001b[39m, \u001b[38;5;124m'\u001b[39m\u001b[38;5;124mmultimedia.txt\u001b[39m\u001b[38;5;124m'\u001b[39m)\n\u001b[1;32m      8\u001b[0m \u001b[38;5;28;01mimport\u001b[39;00m \u001b[38;5;21;01mbplusplus\u001b[39;00m\n\u001b[0;32m---> 10\u001b[0m \u001b[43mbplusplus\u001b[49m\u001b[38;5;241;43m.\u001b[39;49m\u001b[43mcollect_images\u001b[49m(names_file, directory_path, occurrence_file, multimedia_file)\n",
      "\u001b[0;31mAttributeError\u001b[0m: module 'bplusplus' has no attribute 'collect_images'"
     ]
    }
   ],
   "source": [
    "import os\n",
    "\n",
    "names_file = os.path.join('../../notebooks/data', \"names.csv\")\n",
    "directory_path = os.path.join('../../notebooks/data', 'dataset')\n",
    "occurrence_file = os.path.join('../../notebooks/data', 'occurrences.txt')\n",
    "multimedia_file = os.path.join('../../notebooks/data', 'multimedia.txt')\n",
    "\n",
    "import bplusplus\n",
    "\n",
    "bplusplus.collect_images(names_file, directory_path, occurrence_file, multimedia_file)"
   ]
  },
  {
   "cell_type": "code",
   "execution_count": null,
   "id": "30722f55e7dc2cd1",
   "metadata": {},
   "outputs": [],
   "source": []
  }
 ],
 "metadata": {
  "kernelspec": {
   "display_name": "Python 3",
   "language": "python",
   "name": "python3"
  },
  "language_info": {
   "codemirror_mode": {
    "name": "ipython",
    "version": 3
   },
   "file_extension": ".py",
   "mimetype": "text/x-python",
   "name": "python",
   "nbconvert_exporter": "python",
   "pygments_lexer": "ipython3",
   "version": "3.12.4"
  }
 },
 "nbformat": 4,
 "nbformat_minor": 5
}
