{
 "cells": [
  {
   "cell_type": "markdown",
   "id": "e509e3e4",
   "metadata": {},
   "source": [
    "# Build a Classifier from GBIF\n",
    "* Fill out the search parameters using the keys listed in GBIF's documentation: https://pygbif.readthedocs.io/en/latest/modules/\n",
    "occurrence.html#pygbif.occurrences.search\n",
    "* Select which group to train on (currently on `scientificName` is supported)."
   ]
  },
  {
   "cell_type": "code",
   "execution_count": null,
   "id": "b620bac7",
   "metadata": {},
   "outputs": [],
   "source": [
    "import os\n",
    "import bplusplus\n",
    "from typing import Any\n",
    "\n",
    "names = [\n",
    "    \"Nabis rugosus\", \n",
    "    \"Forficula auricularia\",\n",
    "    \"Calosoma inquisitor\",\n",
    "    \"Bombus veteranus\",\n",
    "    \"Glyphotaelius pellucidus\",\n",
    "    \"Notoxus monoceros\",\n",
    "    \"Cacoxenus indagator\",\n",
    "    \"Chorthippus mollis\",\n",
    "    \"Trioza remota\"\n",
    "]\n",
    "\n",
    "search: dict[str, Any] = {\n",
    "    \"scientificName\": names,\n",
    "    \"country\": [\"US\", \"NL\"]\n",
    "}\n",
    "\n",
    "bplusplus.build_model(\n",
    "    group_by_key=bplusplus.Group.scientificName,\n",
    "    search_parameters=search, images_per_group=150,\n",
    "    model_output_folder=os.path.join('model')\n",
    ")"
   ]
  },
  {
   "cell_type": "markdown",
   "id": "1ed40f61",
   "metadata": {},
   "source": [
    "# Run Model\n",
    "\n",
    "Now you can run the model"
   ]
  },
  {
   "cell_type": "code",
   "execution_count": null,
   "id": "6e89d396",
   "metadata": {},
   "outputs": [],
   "source": [
    "from ultralytics import YOLO\n",
    "\n",
    "# Load a model\n",
    "path_to_model = \"../runs/classify/train5/weights/best.pt\"\n",
    "model = YOLO(path_to_model)  # load a custom model\n",
    "\n",
    "# Predict with the model\n",
    "path_to_image1 = \"data/nabis_test.jpg\"\n",
    "path_to_image2 = \"data/forficula_test.jpeg\"\n",
    "results = model(path_to_image1, save_txt = True)  # predict on an image\n",
    "print(results)\n",
    "\n",
    "\n"
   ]
  },
  {
   "cell_type": "markdown",
   "id": "40feb66a",
   "metadata": {},
   "source": [
    "# More Advanced Uses"
   ]
  },
  {
   "cell_type": "markdown",
   "id": "718e25ad",
   "metadata": {},
   "source": [
    "## Collect images from GBIF into folders\n",
    "\n",
    "Download the images directly using the search parameters, and images will be grouped into folders according to the `group_by_key`"
   ]
  },
  {
   "cell_type": "code",
   "execution_count": null,
   "id": "initial_id",
   "metadata": {
    "collapsed": true,
    "jupyter": {
     "is_executing": true
    }
   },
   "outputs": [],
   "source": [
    "import os\n",
    "from typing import Any\n",
    "\n",
    "directory_path = os.path.join('dataset')\n",
    "names = [\n",
    "    \"Nabis rugosus\", \n",
    "    \"Forficula auricularia\",\n",
    "    \"Calosoma inquisitor\",\n",
    "    \"Bombus veteranus\",\n",
    "    \"Glyphotaelius pellucidus\",\n",
    "    \"Notoxus monoceros\",\n",
    "    \"Cacoxenus indagator\",\n",
    "    \"Chorthippus mollis\",\n",
    "    \"Trioza remota\"\n",
    "]\n",
    "\n",
    "import bplusplus\n",
    "\n",
    "search: dict[str, Any] = { \n",
    "    \"scientificName\":  names, \n",
    "    \"country\": [\"US\", \"NL\"]\n",
    "}\n",
    "\n",
    "bplusplus.collect_images(group_by_key=bplusplus.Group.scientificName, search_parameters=search, images_per_group=150, output_directory=directory_path)"
   ]
  },
  {
   "cell_type": "markdown",
   "id": "b796a936",
   "metadata": {},
   "source": [
    "## Train and Validate the Model\n",
    "\n",
    "Use the extracted images to train and validate a pytorch model"
   ]
  },
  {
   "cell_type": "code",
   "execution_count": null,
   "id": "30722f55e7dc2cd1",
   "metadata": {},
   "outputs": [],
   "source": [
    "from bplusplus.train_validate import train_validate\n",
    "import os\n",
    "\n",
    "dataset_directory = os.path.join('data', 'dataset')\n",
    "names = [\"Nabis rugosus\", \"Forficula auricularia\"]\n",
    "output_path = os.path.join('data', 'output')\n",
    "\n",
    "train_validate(groups=names, dataset_path=dataset_directory, output_directory=output_path)"
   ]
  }
 ],
 "metadata": {
  "kernelspec": {
   "display_name": "Python 3",
   "language": "python",
   "name": "python3"
  },
  "language_info": {
   "codemirror_mode": {
    "name": "ipython",
    "version": 3
   },
   "file_extension": ".py",
   "mimetype": "text/x-python",
   "name": "python",
   "nbconvert_exporter": "python",
   "pygments_lexer": "ipython3",
   "version": "3.12.4"
  }
 },
 "nbformat": 4,
 "nbformat_minor": 5
}
